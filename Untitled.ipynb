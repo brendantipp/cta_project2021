{
 "cells": [
  {
   "cell_type": "code",
   "execution_count": 8,
   "metadata": {},
   "outputs": [],
   "source": [
    "from random import randint\n",
    "import numpy as np"
   ]
  },
  {
   "cell_type": "code",
   "execution_count": 9,
   "metadata": {},
   "outputs": [],
   "source": [
    "def random_array(n):\n",
    "    array= np.random.randint(1,100, size=(1,n))\n",
    "\n",
    "    return array"
   ]
  },
  {
   "cell_type": "code",
   "execution_count": 11,
   "metadata": {},
   "outputs": [
    {
     "data": {
      "text/plain": [
       "array([[68, 42, 96, 45, 16, 41,  9, 63, 54, 37, 36, 73, 91, 25, 70, 14,\n",
       "        37, 46, 41, 84, 11, 17, 46, 26, 77, 32,  8, 13, 64,  1, 51, 76,\n",
       "         6, 20, 27, 93, 15, 86, 52,  7, 76, 34, 36, 43, 15, 30, 32, 83,\n",
       "         4, 90, 82, 55, 21, 39, 56, 97, 95, 94, 92, 96, 80, 11, 38,  1,\n",
       "         6, 98, 41, 92, 53, 48, 27, 44, 21, 96, 49, 76, 41, 35, 52, 40,\n",
       "         6, 90, 43, 86, 71, 22, 96, 14, 39, 17, 14, 23, 91, 50, 58, 39,\n",
       "        68, 70, 89, 97, 90, 10, 41, 68,  1, 14, 27, 17, 57, 96, 73, 41,\n",
       "        64, 15, 91, 69, 99,  1, 57, 19, 27, 78, 54, 33, 76, 93, 98, 32,\n",
       "        33, 36, 77, 50,  1, 87, 42, 79, 62, 64,  1, 36, 11, 44, 12,  3,\n",
       "        22, 93, 24, 70, 12, 26, 52,  5, 99, 40, 13, 78, 87, 88, 76, 30,\n",
       "        42, 77, 99, 63, 59,  3, 67, 34, 18,  4, 22, 67,  3, 16, 79, 43,\n",
       "        90, 72, 41, 39, 31, 38, 76, 69, 89, 76, 57, 65,  7, 26, 17, 73,\n",
       "        43, 23, 44, 75, 78, 77, 37, 65, 74, 56, 62, 30,  6, 30, 77, 43,\n",
       "        72, 47, 96, 72, 82, 16, 90, 86, 80, 40, 12, 82, 21, 75, 81, 36,\n",
       "        27, 29, 77, 83, 20, 68, 94, 28, 79, 44, 68, 69, 51, 35, 22, 17,\n",
       "        31, 19, 53,  8, 87, 63, 30, 62, 77, 91]])"
      ]
     },
     "execution_count": 11,
     "metadata": {},
     "output_type": "execute_result"
    }
   ],
   "source": [
    "random_array(250)"
   ]
  },
  {
   "cell_type": "code",
   "execution_count": null,
   "metadata": {},
   "outputs": [],
   "source": []
  }
 ],
 "metadata": {
  "kernelspec": {
   "display_name": "Python 3",
   "language": "python",
   "name": "python3"
  },
  "language_info": {
   "codemirror_mode": {
    "name": "ipython",
    "version": 3
   },
   "file_extension": ".py",
   "mimetype": "text/x-python",
   "name": "python",
   "nbconvert_exporter": "python",
   "pygments_lexer": "ipython3",
   "version": "3.8.3"
  }
 },
 "nbformat": 4,
 "nbformat_minor": 4
}
